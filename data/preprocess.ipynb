{
 "cells": [
  {
   "cell_type": "code",
   "execution_count": 7,
   "id": "fb95d99e",
   "metadata": {},
   "outputs": [
    {
     "name": "stdout",
     "output_type": "stream",
     "text": [
      "        City        Date  PM2.5  PM10     NO    NO2    NOx  NH3     CO    SO2  \\\n",
      "0  Ahmedabad  2015-01-01    NaN   NaN   0.92  18.22  17.15  NaN   0.92  27.64   \n",
      "1  Ahmedabad  2015-01-02    NaN   NaN   0.97  15.69  16.46  NaN   0.97  24.55   \n",
      "2  Ahmedabad  2015-01-03    NaN   NaN  17.40  19.30  29.70  NaN  17.40  29.07   \n",
      "3  Ahmedabad  2015-01-04    NaN   NaN   1.70  18.48  17.97  NaN   1.70  18.59   \n",
      "4  Ahmedabad  2015-01-05    NaN   NaN  22.10  21.42  37.76  NaN  22.10  39.33   \n",
      "\n",
      "       O3  Benzene  Toluene  Xylene  AQI AQI_Bucket  \n",
      "0  133.36     0.00     0.02    0.00  NaN        NaN  \n",
      "1   34.06     3.68     5.50    3.77  NaN        NaN  \n",
      "2   30.70     6.80    16.40    2.25  NaN        NaN  \n",
      "3   36.08     4.43    10.14    1.00  NaN        NaN  \n",
      "4   39.31     7.01    18.89    2.78  NaN        NaN  \n",
      "                City        Date  PM2.5   PM10    NO    NO2    NOx    NH3  \\\n",
      "29526  Visakhapatnam  2020-06-27  15.02  50.94  7.68  25.06  19.54  12.47   \n",
      "29527  Visakhapatnam  2020-06-28  24.38  74.09  3.42  26.06  16.53  11.99   \n",
      "29528  Visakhapatnam  2020-06-29  22.91  65.73  3.45  29.53  18.33  10.71   \n",
      "29529  Visakhapatnam  2020-06-30  16.64  49.97  4.05  29.26  18.80  10.03   \n",
      "29530  Visakhapatnam  2020-07-01  15.00  66.00  0.40  26.85  14.05   5.20   \n",
      "\n",
      "         CO    SO2     O3  Benzene  Toluene  Xylene   AQI    AQI_Bucket  \n",
      "29526  0.47   8.55  23.30     2.24    12.07    0.73  41.0          Good  \n",
      "29527  0.52  12.72  30.14     0.74     2.21    0.38  70.0  Satisfactory  \n",
      "29528  0.48   8.42  30.96     0.01     0.01    0.00  68.0  Satisfactory  \n",
      "29529  0.52   9.84  28.30     0.00     0.00    0.00  54.0  Satisfactory  \n",
      "29530  0.59   2.10  17.05      NaN      NaN     NaN  50.0          Good  \n",
      "              PM2.5          PM10            NO           NO2           NOx  \\\n",
      "count  24933.000000  18391.000000  25949.000000  25946.000000  25346.000000   \n",
      "mean      67.450578    118.127103     17.574730     28.560659     32.309123   \n",
      "std       64.661449     90.605110     22.785846     24.474746     31.646011   \n",
      "min        0.040000      0.010000      0.020000      0.010000      0.000000   \n",
      "25%       28.820000     56.255000      5.630000     11.750000     12.820000   \n",
      "50%       48.570000     95.680000      9.890000     21.690000     23.520000   \n",
      "75%       80.590000    149.745000     19.950000     37.620000     40.127500   \n",
      "max      949.990000   1000.000000    390.680000    362.210000    467.630000   \n",
      "\n",
      "                NH3            CO           SO2            O3       Benzene  \\\n",
      "count  19203.000000  27472.000000  25677.000000  25509.000000  23908.000000   \n",
      "mean      23.483476      2.248598     14.531977     34.491430      3.280840   \n",
      "std       25.684275      6.962884     18.133775     21.694928     15.811136   \n",
      "min        0.010000      0.000000      0.010000      0.010000      0.000000   \n",
      "25%        8.580000      0.510000      5.670000     18.860000      0.120000   \n",
      "50%       15.850000      0.890000      9.160000     30.840000      1.070000   \n",
      "75%       30.020000      1.450000     15.220000     45.570000      3.080000   \n",
      "max      352.890000    175.810000    193.860000    257.730000    455.030000   \n",
      "\n",
      "            Toluene        Xylene           AQI  \n",
      "count  21490.000000  11422.000000  24850.000000  \n",
      "mean       8.700972      3.070128    166.463581  \n",
      "std       19.969164      6.323247    140.696585  \n",
      "min        0.000000      0.000000     13.000000  \n",
      "25%        0.600000      0.140000     81.000000  \n",
      "50%        2.970000      0.980000    118.000000  \n",
      "75%        9.150000      3.350000    208.000000  \n",
      "max      454.850000    170.370000   2049.000000  \n"
     ]
    }
   ],
   "source": [
    "import pandas as pd\n",
    "import os\n",
    "\n",
    "df=pd.read_csv(r'E:\\Codes\\Projects\\ML\\air_quality\\data\\city_day.csv')\n",
    "print(df.head())\n",
    "print(df.tail())\n",
    "print(df.describe())"
   ]
  },
  {
   "cell_type": "code",
   "execution_count": 8,
   "id": "7d69192d",
   "metadata": {},
   "outputs": [
    {
     "name": "stdout",
     "output_type": "stream",
     "text": [
      "['Ahmedabad' 'Aizawl' 'Amaravati' 'Amritsar' 'Bengaluru' 'Bhopal'\n",
      " 'Brajrajnagar' 'Chandigarh' 'Chennai' 'Coimbatore' 'Delhi' 'Ernakulam'\n",
      " 'Gurugram' 'Guwahati' 'Hyderabad' 'Jaipur' 'Jorapokhar' 'Kochi' 'Kolkata'\n",
      " 'Lucknow' 'Mumbai' 'Patna' 'Shillong' 'Talcher' 'Thiruvananthapuram'\n",
      " 'Visakhapatnam']\n"
     ]
    }
   ],
   "source": [
    "print(df[\"City\"].unique())"
   ]
  },
  {
   "cell_type": "code",
   "execution_count": null,
   "id": "233764af",
   "metadata": {},
   "outputs": [
    {
     "name": "stderr",
     "output_type": "stream",
     "text": [
      "C:\\Users\\Boopathi Kumar\\AppData\\Local\\Temp\\ipykernel_1956\\1007324574.py:18: FutureWarning: Series.fillna with 'method' is deprecated and will raise in a future version. Use obj.ffill() or obj.bfill() instead.\n",
      "  city_df['AQI'] = city_df['AQI'].fillna(method='bfill').fillna(method='ffill')\n"
     ]
    },
    {
     "name": "stdout",
     "output_type": "stream",
     "text": [
      "✅ Cleaned data saved in folder: cleaned_city_data\n"
     ]
    }
   ],
   "source": [
    "\n",
    "# Convert Date column to datetime\n",
    "df['Date'] = pd.to_datetime(df['Date'], errors='coerce')\n",
    "\n",
    "# Sort by City and Date\n",
    "df = df.sort_values(['City', 'Date']).reset_index(drop=True)\n",
    "\n",
    "# Create folder to save cleaned data per city\n",
    "output_dir = \"cleaned_city_data\"\n",
    "os.makedirs(output_dir, exist_ok=True)\n",
    "\n",
    "# Loop through each city\n",
    "for city in df['City'].unique():\n",
    "    city_df = df[df['City'] == city].copy()\n",
    "    city_df.set_index('Date', inplace=True)\n",
    "\n",
    "    # Interpolate AQI\n",
    "    city_df['AQI'] = city_df['AQI'].interpolate(method='linear')\n",
    "    city_df['AQI'] = city_df['AQI'].fillna(method='bfill').fillna(method='ffill')\n",
    "\n",
    "    # Ensure continuous date range\n",
    "    full_range = pd.date_range(start=city_df.index.min(), end=city_df.index.max())\n",
    "    city_df = city_df.reindex(full_range)\n",
    "\n",
    "    # Re-interpolate after reindex\n",
    "    city_df['AQI'] = city_df['AQI'].interpolate(method='linear')\n",
    "\n",
    "    # Save cleaned city file\n",
    "    city_df.to_csv(f\"{output_dir}/{city.replace(' ', '_')}.csv\")\n",
    "\n",
    "print(f\"Cleaned data saved in folder: {output_dir}\")\n"
   ]
  },
  {
   "cell_type": "code",
   "execution_count": null,
   "id": "da8dea18",
   "metadata": {},
   "outputs": [],
   "source": []
  }
 ],
 "metadata": {
  "kernelspec": {
   "display_name": "Python 3",
   "language": "python",
   "name": "python3"
  },
  "language_info": {
   "codemirror_mode": {
    "name": "ipython",
    "version": 3
   },
   "file_extension": ".py",
   "mimetype": "text/x-python",
   "name": "python",
   "nbconvert_exporter": "python",
   "pygments_lexer": "ipython3",
   "version": "3.12.0"
  }
 },
 "nbformat": 4,
 "nbformat_minor": 5
}
